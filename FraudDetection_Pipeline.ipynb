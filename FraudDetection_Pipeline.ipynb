{
  "nbformat": 4,
  "nbformat_minor": 0,
  "metadata": {
    "colab": {
      "provenance": [],
      "machine_shape": "hm"
    },
    "kernelspec": {
      "name": "python3",
      "display_name": "Python 3"
    },
    "language_info": {
      "name": "python"
    }
  },
  "cells": [
    {
      "cell_type": "markdown",
      "source": [
        "------------\n",
        "\n",
        "> ❗❗❗⚠️  💸   DONT USE GPU❗❗❗   \n",
        "> **🧠 🤑   USE ONLY CPU (max GB used: RAM 3 - DISC 30 )**\n",
        "------------"
      ],
      "metadata": {
        "id": "UDXB1Rug-uUl"
      }
    },
    {
      "cell_type": "markdown",
      "source": [
        "### Introducción\n",
        "\n",
        "En este notebook, llevaremos a cabo el entrenamiento y la evaluación de varios modelos de clasificación para la detección de fraudes utilizando un conjunto de datos de transacciones financieras.\n",
        "Comenzaremos cargando y preprocesando los datos de entrenamiento y prueba, eliminando columnas irrelevantes y codificando variables categóricas.\n",
        "Posteriormente, escalaremos las características numéricas para garantizar que todos los modelos se entrenen de manera uniforme. Utilizaremos técnicas de validación cruzada para evaluar el rendimiento de varios modelos, incluyendo Random Forest, Logistic Regression (LASSO), K-Nearest Neighbors, Decision Tree, Support Vector Machine y Gradient Boosting. El modelo con el mejor rendimiento se ajustará con los hiperparámetros óptimos utilizando GridSearchCV.\n",
        "\n",
        "Una vez entrenados y evaluados los modelos, procederemos a calcular y visualizar métricas importantes como la matriz de confusión, curvas de precisión-recall, RMSE y MAE tanto para los datos de entrenamiento como para los datos de prueba.\n",
        "Finalmente, guardaremos el modelo entrenado y los resultados en archivos locales, y subiremos estos archivos a una carpeta compartida en Google Drive. Este proceso garantiza que los modelos y resultados estén accesibles para su posterior análisis y uso en un servidor de MLFlow, facilitando la colaboración y el seguimiento de experimentos en un entorno de machine learning."
      ],
      "metadata": {
        "id": "xMiZBcNx8dTy"
      }
    },
    {
      "cell_type": "code",
      "source": [
        "# Instalamos las librerías necesarias\n",
        "!pip install --upgrade -q google-api-python-client google-auth-httplib2 google-auth-oauthlib"
      ],
      "metadata": {
        "colab": {
          "base_uri": "https://localhost:8080/"
        },
        "id": "xP7wEErzddid",
        "outputId": "1721be2f-5b1c-498d-a0ba-7808ab7681f7"
      },
      "execution_count": null,
      "outputs": [
        {
          "output_type": "stream",
          "name": "stdout",
          "text": [
            "\u001b[2K     \u001b[90m━━━━━━━━━━━━━━━━━━━━━━━━━━━━━━━━━━━━━━━━\u001b[0m \u001b[32m12.0/12.0 MB\u001b[0m \u001b[31m46.5 MB/s\u001b[0m eta \u001b[36m0:00:00\u001b[0m\n",
            "\u001b[?25h"
          ]
        }
      ]
    },
    {
      "cell_type": "code",
      "source": [
        "!pip install -q gdown"
      ],
      "metadata": {
        "id": "UcYqXVTXTtvu"
      },
      "execution_count": null,
      "outputs": []
    },
    {
      "cell_type": "code",
      "source": [
        "# Agregamos todos las librerías base con las que vamos a trabajar\n",
        "import pandas as pd\n",
        "import numpy as np\n",
        "import matplotlib.pyplot as plt\n",
        "import matplotlib.dates as mdates\n",
        "import seaborn as sns\n",
        "import sklearn.linear_model as lm\n",
        "import pickle\n",
        "import gdown\n",
        "import os\n",
        "import google.auth\n",
        "import joblib\n",
        "import sklearn\n",
        "from sklearn.preprocessing import LabelEncoder\n",
        "from sklearn.feature_extraction.text import TfidfVectorizer,CountVectorizer\n",
        "from sklearn.model_selection import cross_val_score, GridSearchCV, StratifiedKFold\n",
        "from sklearn.ensemble import RandomForestClassifier\n",
        "from sklearn.neighbors import KNeighborsClassifier\n",
        "from sklearn.svm import SVC\n",
        "from sklearn.tree import DecisionTreeClassifier\n",
        "from sklearn.metrics import classification_report, mean_squared_error, mean_absolute_error, confusion_matrix, precision_recall_curve, auc, ConfusionMatrixDisplay, PrecisionRecallDisplay\n",
        "from sklearn.ensemble import GradientBoostingClassifier\n",
        "from sklearn import preprocessing\n",
        "from google.colab import drive\n",
        "from google.colab import auth\n",
        "from google.auth.transport.requests import Request\n",
        "from google.oauth2.credentials import Credentials\n",
        "from googleapiclient.discovery import build\n",
        "from googleapiclient.http import MediaFileUpload\n",
        "\n",
        "%matplotlib inline"
      ],
      "metadata": {
        "id": "vl4PZnpkMg5k"
      },
      "execution_count": null,
      "outputs": []
    },
    {
      "cell_type": "markdown",
      "source": [
        "Tras haber finalizado el análisis exploratorio del dataset, generamos el pipeline del proyecto con el fin de poder aplicar los cambios más facilmente a test."
      ],
      "metadata": {
        "id": "bNX82-FPMWtI"
      }
    },
    {
      "cell_type": "code",
      "source": [
        "auth.authenticate_user()"
      ],
      "metadata": {
        "id": "uXevR29adyB7"
      },
      "execution_count": null,
      "outputs": []
    },
    {
      "cell_type": "code",
      "source": [
        "# URL de la carpeta compartida\n",
        "folder_url = 'https://drive.google.com/drive/folders/1Ihit8ngHtsKlykuF51xXFWMa8k7oYw_D?usp=sharing'"
      ],
      "metadata": {
        "id": "9cBfZa00T6ju"
      },
      "execution_count": null,
      "outputs": []
    },
    {
      "cell_type": "code",
      "source": [
        "# Extraemos el ID de la carpeta\n",
        "folder_id = folder_url.split('/')[-1].split('?')[0]"
      ],
      "metadata": {
        "id": "A9NamiCKUD7f"
      },
      "execution_count": null,
      "outputs": []
    },
    {
      "cell_type": "code",
      "source": [
        "# Listamos los archivos en la carpeta usando gdown\n",
        "!gdown --folder {folder_id}"
      ],
      "metadata": {
        "colab": {
          "base_uri": "https://localhost:8080/"
        },
        "id": "SFPOBGTCUHNl",
        "outputId": "e7fed1cb-ddc3-4404-d6eb-523415fec3bf"
      },
      "execution_count": null,
      "outputs": [
        {
          "output_type": "stream",
          "name": "stdout",
          "text": [
            "Retrieving folder contents\n",
            "Processing file 1q896oVJpS8jvEQGUN7N1aH_qmuSOfiwM fraude_test.csv\n",
            "Processing file 1rUWWXxfGpKJuyOKelTu2bZO5Y7_klqie fraude_train.csv\n",
            "Retrieving folder contents completed\n",
            "Building directory structure\n",
            "Building directory structure completed\n",
            "Downloading...\n",
            "From: https://drive.google.com/uc?id=1q896oVJpS8jvEQGUN7N1aH_qmuSOfiwM\n",
            "To: /content/FraudDetection_EDA/fraude_test.csv\n",
            "100% 2.45M/2.45M [00:00<00:00, 155MB/s]\n",
            "Downloading...\n",
            "From: https://drive.google.com/uc?id=1rUWWXxfGpKJuyOKelTu2bZO5Y7_klqie\n",
            "To: /content/FraudDetection_EDA/fraude_train.csv\n",
            "100% 9.78M/9.78M [00:00<00:00, 32.9MB/s]\n",
            "Download completed\n"
          ]
        }
      ]
    },
    {
      "cell_type": "markdown",
      "source": [],
      "metadata": {
        "id": "oftTfmx6Jf05"
      }
    },
    {
      "cell_type": "code",
      "source": [
        "file_name_train = '/content/FraudDetection_EDA/fraude_train.csv'\n",
        "file_name_test = '/content/FraudDetection_EDA/fraude_test.csv'"
      ],
      "metadata": {
        "id": "H0j0qVMwUrWJ"
      },
      "execution_count": null,
      "outputs": []
    },
    {
      "cell_type": "code",
      "source": [
        "# Cargamos el dataset usando pandas\n",
        "df_train = pd.read_csv(file_name_train, sep=';', decimal='.')\n",
        "df_test = pd.read_csv(file_name_test, sep=';', decimal='.')"
      ],
      "metadata": {
        "id": "OoRleZr9RAQg"
      },
      "execution_count": null,
      "outputs": []
    },
    {
      "cell_type": "code",
      "source": [
        "# Mostramos las primeras filas del dataframe para verificar que se ha cargado correctamente\n",
        "print(df_train.head())\n",
        "print(df_test.head())"
      ],
      "metadata": {
        "colab": {
          "base_uri": "https://localhost:8080/"
        },
        "id": "AaB6VRYARCYG",
        "outputId": "d5defb1d-fad9-4cc5-cbec-87af3b4f7967"
      },
      "execution_count": null,
      "outputs": [
        {
          "output_type": "stream",
          "name": "stdout",
          "text": [
            "   Unnamed: 0 trans_date_trans_time        cc_num  \\\n",
            "0       39748          1/24/19 6:25  3.607810e+13   \n",
            "1        5412          1/4/19 13:10  4.755700e+12   \n",
            "2       19160         1/12/19 16:27  2.131260e+14   \n",
            "3       19682         1/12/19 23:31  3.764450e+14   \n",
            "4       41904         1/25/19 21:59  3.858050e+13   \n",
            "\n",
            "                           merchant        category     amt        first  \\\n",
            "0             fraud_Vandervort-Funk     grocery_pos  126.10  Christopher   \n",
            "1  fraud_Zemlak, Tillman and Cremin   personal_care    4.57       Robert   \n",
            "2          fraud_Romaguera and Sons          travel    2.41         Adam   \n",
            "3                 fraud_Kilback LLC     food_dining   47.33       Rachel   \n",
            "4              fraud_Hamill-D'Amore  health_fitness   45.80       Teresa   \n",
            "\n",
            "    last gender                         street  ...      lat      long  \\\n",
            "0   Horn      M            956 Sanchez Highway  ...  37.2692  -82.9161   \n",
            "1  Evans      M  01892 Patricia Vista Apt. 828  ...  32.9643  -96.6012   \n",
            "2   Kirk      M          40847 Stark Junctions  ...  42.0740  -74.4530   \n",
            "3   Lowe      F             372 Jeffrey Course  ...  41.1558 -101.1360   \n",
            "4  Clark      F             1323 Derek Mission  ...  48.8856 -103.0098   \n",
            "\n",
            "   city_pop                          job      dob  \\\n",
            "0       798           Facilities manager  6/26/26   \n",
            "1     20328                Site engineer  6/20/85   \n",
            "2       397                 Psychiatrist  9/12/31   \n",
            "3      1789             Insurance broker  2/11/82   \n",
            "4       248  Industrial/product designer  5/13/68   \n",
            "\n",
            "                          trans_num   unix_time  merch_lat  merch_long  \\\n",
            "0  d7149773869085a9e39a95d52baa2f7c  1327386350  37.429749  -82.828426   \n",
            "1  4218ba72b747886fdf216fbdb44bb60a  1325682657  33.062253  -97.423714   \n",
            "2  60a7f42115fc6a89c39c2b4a9ccab09b  1326385629  43.053188  -74.149802   \n",
            "3  2f659d79bf521e9e623734d2c1047631  1326411078  42.155397 -101.537459   \n",
            "4  608d43090a60f3bd1a49acbe3fdd08e1  1327528776  49.460141 -102.638408   \n",
            "\n",
            "   is_fraud  \n",
            "0         0  \n",
            "1         0  \n",
            "2         0  \n",
            "3         0  \n",
            "4         0  \n",
            "\n",
            "[5 rows x 23 columns]\n",
            "   Unnamed: 0 trans_date_trans_time        cc_num  \\\n",
            "0        1594          1/1/19 17:06  4.116550e+15   \n",
            "1        6982          1/5/19 15:05  4.335530e+15   \n",
            "2       30680          1/19/19 8:25  4.225990e+18   \n",
            "3        4122          1/3/19 13:48  3.573030e+15   \n",
            "4         366           1/1/19 4:48  4.769430e+18   \n",
            "\n",
            "                       merchant      category     amt    first       last  \\\n",
            "0          fraud_Gottlieb Group     kids_pets  166.80  Bridget      Bowen   \n",
            "1  fraud_Feil, Hilpert and Koss   food_dining   12.52      Amy  Daugherty   \n",
            "2              fraud_Metz-Boehm  shopping_pos    7.73    Brian    Simpson   \n",
            "3          fraud_Torphy-Goyette  shopping_pos    4.24   Joanne   Williams   \n",
            "4          fraud_Jast-McDermott  shopping_pos    1.75   Andrea       Cruz   \n",
            "\n",
            "  gender                          street  ...      lat      long  city_pop  \\\n",
            "0      F    49120 Regina Island Apt. 170  ...  27.2625  -80.3793    181438   \n",
            "1      F       852 Thomas Well Suite 339  ...  38.3511  -91.4867      6703   \n",
            "2      M                2711 Duran Pines  ...  20.0827 -155.4880      4878   \n",
            "3      F                3638 Marsh Union  ...  40.3207 -110.4360       302   \n",
            "4      F  26572 Hodge Villages Suite 512  ...  40.5553  -77.4001      1909   \n",
            "\n",
            "                      job      dob                         trans_num  \\\n",
            "0  Primary school teacher  3/19/34  415e39baad9608d29025e28ed99dda98   \n",
            "1         Naval architect  5/20/98  4462b8f24aa0633fe6cd5d753f591e2a   \n",
            "2         Physiotherapist  12/3/66  707bd28e32a9809eeb52ad5dddf07ea3   \n",
            "3  Sales professional, IT  1/17/90  17a3b00198afa26e731893c612c0eed8   \n",
            "4         Mining engineer  8/22/54  8536c09b4efac35cc143ea8e9c4740eb   \n",
            "\n",
            "    unix_time  merch_lat  merch_long  is_fraud  \n",
            "0  1325437607  27.704133  -80.623091         0  \n",
            "1  1325775929  38.535690  -92.208903         0  \n",
            "2  1326961509  20.417444 -155.494826         0  \n",
            "3  1325598531  40.581180 -110.183785         0  \n",
            "4  1325393326  41.166290  -78.109940         0  \n",
            "\n",
            "[5 rows x 23 columns]\n"
          ]
        }
      ]
    },
    {
      "cell_type": "code",
      "source": [
        "#Eliminamos las columnas de tipo object\n",
        "df_train= df_train.drop(['first', 'last','gender','street','city','state','trans_num','job', 'dob','trans_date_trans_time'], axis=1)\n",
        "\n",
        "# Convertimos cc_num a tipo int para eliminar la notación científica\n",
        "df_train['cc_num'] = df_train['cc_num'].astype(int)\n",
        "\n",
        "#Eliminamos las columnas tipo numéricas\n",
        "df_train= df_train.drop(['Unnamed: 0', 'zip','city_pop'], axis=1)\n",
        "\n",
        "# Codificamos las variables\n",
        "le_merchant = LabelEncoder()\n",
        "le_category = LabelEncoder()\n",
        "df_train['merchant'] = le_merchant.fit_transform(df_train['merchant'])\n",
        "df_train['category'] = le_category.fit_transform(df_train['category'])\n",
        "\n",
        "# Comprobamos que todo se ha aplicado correctamente\n",
        "print(df_train.shape)\n",
        "df_train.head(5)"
      ],
      "metadata": {
        "colab": {
          "base_uri": "https://localhost:8080/",
          "height": 238
        },
        "id": "D6f1uCGfMXXQ",
        "outputId": "b389d1f2-e543-4d57-a7eb-b9c7637fe157"
      },
      "execution_count": null,
      "outputs": [
        {
          "output_type": "stream",
          "name": "stdout",
          "text": [
            "(38438, 10)\n"
          ]
        },
        {
          "output_type": "execute_result",
          "data": {
            "text/plain": [
              "            cc_num  merchant  category     amt      lat      long   unix_time  \\\n",
              "0   36078100000000       645         4  126.10  37.2692  -82.9161  1327386350   \n",
              "1    4755700000000       689        10    4.57  32.9643  -96.6012  1325682657   \n",
              "2  213126000000000       527        13    2.41  42.0740  -74.4530  1326385629   \n",
              "3  376445000000000       316         1   47.33  41.1558 -101.1360  1326411078   \n",
              "4   38580500000000       226         5   45.80  48.8856 -103.0098  1327528776   \n",
              "\n",
              "   merch_lat  merch_long  is_fraud  \n",
              "0  37.429749  -82.828426         0  \n",
              "1  33.062253  -97.423714         0  \n",
              "2  43.053188  -74.149802         0  \n",
              "3  42.155397 -101.537459         0  \n",
              "4  49.460141 -102.638408         0  "
            ],
            "text/html": [
              "\n",
              "  <div id=\"df-ea235614-e7e5-4160-9b32-969210023bf5\" class=\"colab-df-container\">\n",
              "    <div>\n",
              "<style scoped>\n",
              "    .dataframe tbody tr th:only-of-type {\n",
              "        vertical-align: middle;\n",
              "    }\n",
              "\n",
              "    .dataframe tbody tr th {\n",
              "        vertical-align: top;\n",
              "    }\n",
              "\n",
              "    .dataframe thead th {\n",
              "        text-align: right;\n",
              "    }\n",
              "</style>\n",
              "<table border=\"1\" class=\"dataframe\">\n",
              "  <thead>\n",
              "    <tr style=\"text-align: right;\">\n",
              "      <th></th>\n",
              "      <th>cc_num</th>\n",
              "      <th>merchant</th>\n",
              "      <th>category</th>\n",
              "      <th>amt</th>\n",
              "      <th>lat</th>\n",
              "      <th>long</th>\n",
              "      <th>unix_time</th>\n",
              "      <th>merch_lat</th>\n",
              "      <th>merch_long</th>\n",
              "      <th>is_fraud</th>\n",
              "    </tr>\n",
              "  </thead>\n",
              "  <tbody>\n",
              "    <tr>\n",
              "      <th>0</th>\n",
              "      <td>36078100000000</td>\n",
              "      <td>645</td>\n",
              "      <td>4</td>\n",
              "      <td>126.10</td>\n",
              "      <td>37.2692</td>\n",
              "      <td>-82.9161</td>\n",
              "      <td>1327386350</td>\n",
              "      <td>37.429749</td>\n",
              "      <td>-82.828426</td>\n",
              "      <td>0</td>\n",
              "    </tr>\n",
              "    <tr>\n",
              "      <th>1</th>\n",
              "      <td>4755700000000</td>\n",
              "      <td>689</td>\n",
              "      <td>10</td>\n",
              "      <td>4.57</td>\n",
              "      <td>32.9643</td>\n",
              "      <td>-96.6012</td>\n",
              "      <td>1325682657</td>\n",
              "      <td>33.062253</td>\n",
              "      <td>-97.423714</td>\n",
              "      <td>0</td>\n",
              "    </tr>\n",
              "    <tr>\n",
              "      <th>2</th>\n",
              "      <td>213126000000000</td>\n",
              "      <td>527</td>\n",
              "      <td>13</td>\n",
              "      <td>2.41</td>\n",
              "      <td>42.0740</td>\n",
              "      <td>-74.4530</td>\n",
              "      <td>1326385629</td>\n",
              "      <td>43.053188</td>\n",
              "      <td>-74.149802</td>\n",
              "      <td>0</td>\n",
              "    </tr>\n",
              "    <tr>\n",
              "      <th>3</th>\n",
              "      <td>376445000000000</td>\n",
              "      <td>316</td>\n",
              "      <td>1</td>\n",
              "      <td>47.33</td>\n",
              "      <td>41.1558</td>\n",
              "      <td>-101.1360</td>\n",
              "      <td>1326411078</td>\n",
              "      <td>42.155397</td>\n",
              "      <td>-101.537459</td>\n",
              "      <td>0</td>\n",
              "    </tr>\n",
              "    <tr>\n",
              "      <th>4</th>\n",
              "      <td>38580500000000</td>\n",
              "      <td>226</td>\n",
              "      <td>5</td>\n",
              "      <td>45.80</td>\n",
              "      <td>48.8856</td>\n",
              "      <td>-103.0098</td>\n",
              "      <td>1327528776</td>\n",
              "      <td>49.460141</td>\n",
              "      <td>-102.638408</td>\n",
              "      <td>0</td>\n",
              "    </tr>\n",
              "  </tbody>\n",
              "</table>\n",
              "</div>\n",
              "    <div class=\"colab-df-buttons\">\n",
              "\n",
              "  <div class=\"colab-df-container\">\n",
              "    <button class=\"colab-df-convert\" onclick=\"convertToInteractive('df-ea235614-e7e5-4160-9b32-969210023bf5')\"\n",
              "            title=\"Convert this dataframe to an interactive table.\"\n",
              "            style=\"display:none;\">\n",
              "\n",
              "  <svg xmlns=\"http://www.w3.org/2000/svg\" height=\"24px\" viewBox=\"0 -960 960 960\">\n",
              "    <path d=\"M120-120v-720h720v720H120Zm60-500h600v-160H180v160Zm220 220h160v-160H400v160Zm0 220h160v-160H400v160ZM180-400h160v-160H180v160Zm440 0h160v-160H620v160ZM180-180h160v-160H180v160Zm440 0h160v-160H620v160Z\"/>\n",
              "  </svg>\n",
              "    </button>\n",
              "\n",
              "  <style>\n",
              "    .colab-df-container {\n",
              "      display:flex;\n",
              "      gap: 12px;\n",
              "    }\n",
              "\n",
              "    .colab-df-convert {\n",
              "      background-color: #E8F0FE;\n",
              "      border: none;\n",
              "      border-radius: 50%;\n",
              "      cursor: pointer;\n",
              "      display: none;\n",
              "      fill: #1967D2;\n",
              "      height: 32px;\n",
              "      padding: 0 0 0 0;\n",
              "      width: 32px;\n",
              "    }\n",
              "\n",
              "    .colab-df-convert:hover {\n",
              "      background-color: #E2EBFA;\n",
              "      box-shadow: 0px 1px 2px rgba(60, 64, 67, 0.3), 0px 1px 3px 1px rgba(60, 64, 67, 0.15);\n",
              "      fill: #174EA6;\n",
              "    }\n",
              "\n",
              "    .colab-df-buttons div {\n",
              "      margin-bottom: 4px;\n",
              "    }\n",
              "\n",
              "    [theme=dark] .colab-df-convert {\n",
              "      background-color: #3B4455;\n",
              "      fill: #D2E3FC;\n",
              "    }\n",
              "\n",
              "    [theme=dark] .colab-df-convert:hover {\n",
              "      background-color: #434B5C;\n",
              "      box-shadow: 0px 1px 3px 1px rgba(0, 0, 0, 0.15);\n",
              "      filter: drop-shadow(0px 1px 2px rgba(0, 0, 0, 0.3));\n",
              "      fill: #FFFFFF;\n",
              "    }\n",
              "  </style>\n",
              "\n",
              "    <script>\n",
              "      const buttonEl =\n",
              "        document.querySelector('#df-ea235614-e7e5-4160-9b32-969210023bf5 button.colab-df-convert');\n",
              "      buttonEl.style.display =\n",
              "        google.colab.kernel.accessAllowed ? 'block' : 'none';\n",
              "\n",
              "      async function convertToInteractive(key) {\n",
              "        const element = document.querySelector('#df-ea235614-e7e5-4160-9b32-969210023bf5');\n",
              "        const dataTable =\n",
              "          await google.colab.kernel.invokeFunction('convertToInteractive',\n",
              "                                                    [key], {});\n",
              "        if (!dataTable) return;\n",
              "\n",
              "        const docLinkHtml = 'Like what you see? Visit the ' +\n",
              "          '<a target=\"_blank\" href=https://colab.research.google.com/notebooks/data_table.ipynb>data table notebook</a>'\n",
              "          + ' to learn more about interactive tables.';\n",
              "        element.innerHTML = '';\n",
              "        dataTable['output_type'] = 'display_data';\n",
              "        await google.colab.output.renderOutput(dataTable, element);\n",
              "        const docLink = document.createElement('div');\n",
              "        docLink.innerHTML = docLinkHtml;\n",
              "        element.appendChild(docLink);\n",
              "      }\n",
              "    </script>\n",
              "  </div>\n",
              "\n",
              "\n",
              "<div id=\"df-e9b74dd6-ebba-4415-a529-440190f77b12\">\n",
              "  <button class=\"colab-df-quickchart\" onclick=\"quickchart('df-e9b74dd6-ebba-4415-a529-440190f77b12')\"\n",
              "            title=\"Suggest charts\"\n",
              "            style=\"display:none;\">\n",
              "\n",
              "<svg xmlns=\"http://www.w3.org/2000/svg\" height=\"24px\"viewBox=\"0 0 24 24\"\n",
              "     width=\"24px\">\n",
              "    <g>\n",
              "        <path d=\"M19 3H5c-1.1 0-2 .9-2 2v14c0 1.1.9 2 2 2h14c1.1 0 2-.9 2-2V5c0-1.1-.9-2-2-2zM9 17H7v-7h2v7zm4 0h-2V7h2v10zm4 0h-2v-4h2v4z\"/>\n",
              "    </g>\n",
              "</svg>\n",
              "  </button>\n",
              "\n",
              "<style>\n",
              "  .colab-df-quickchart {\n",
              "      --bg-color: #E8F0FE;\n",
              "      --fill-color: #1967D2;\n",
              "      --hover-bg-color: #E2EBFA;\n",
              "      --hover-fill-color: #174EA6;\n",
              "      --disabled-fill-color: #AAA;\n",
              "      --disabled-bg-color: #DDD;\n",
              "  }\n",
              "\n",
              "  [theme=dark] .colab-df-quickchart {\n",
              "      --bg-color: #3B4455;\n",
              "      --fill-color: #D2E3FC;\n",
              "      --hover-bg-color: #434B5C;\n",
              "      --hover-fill-color: #FFFFFF;\n",
              "      --disabled-bg-color: #3B4455;\n",
              "      --disabled-fill-color: #666;\n",
              "  }\n",
              "\n",
              "  .colab-df-quickchart {\n",
              "    background-color: var(--bg-color);\n",
              "    border: none;\n",
              "    border-radius: 50%;\n",
              "    cursor: pointer;\n",
              "    display: none;\n",
              "    fill: var(--fill-color);\n",
              "    height: 32px;\n",
              "    padding: 0;\n",
              "    width: 32px;\n",
              "  }\n",
              "\n",
              "  .colab-df-quickchart:hover {\n",
              "    background-color: var(--hover-bg-color);\n",
              "    box-shadow: 0 1px 2px rgba(60, 64, 67, 0.3), 0 1px 3px 1px rgba(60, 64, 67, 0.15);\n",
              "    fill: var(--button-hover-fill-color);\n",
              "  }\n",
              "\n",
              "  .colab-df-quickchart-complete:disabled,\n",
              "  .colab-df-quickchart-complete:disabled:hover {\n",
              "    background-color: var(--disabled-bg-color);\n",
              "    fill: var(--disabled-fill-color);\n",
              "    box-shadow: none;\n",
              "  }\n",
              "\n",
              "  .colab-df-spinner {\n",
              "    border: 2px solid var(--fill-color);\n",
              "    border-color: transparent;\n",
              "    border-bottom-color: var(--fill-color);\n",
              "    animation:\n",
              "      spin 1s steps(1) infinite;\n",
              "  }\n",
              "\n",
              "  @keyframes spin {\n",
              "    0% {\n",
              "      border-color: transparent;\n",
              "      border-bottom-color: var(--fill-color);\n",
              "      border-left-color: var(--fill-color);\n",
              "    }\n",
              "    20% {\n",
              "      border-color: transparent;\n",
              "      border-left-color: var(--fill-color);\n",
              "      border-top-color: var(--fill-color);\n",
              "    }\n",
              "    30% {\n",
              "      border-color: transparent;\n",
              "      border-left-color: var(--fill-color);\n",
              "      border-top-color: var(--fill-color);\n",
              "      border-right-color: var(--fill-color);\n",
              "    }\n",
              "    40% {\n",
              "      border-color: transparent;\n",
              "      border-right-color: var(--fill-color);\n",
              "      border-top-color: var(--fill-color);\n",
              "    }\n",
              "    60% {\n",
              "      border-color: transparent;\n",
              "      border-right-color: var(--fill-color);\n",
              "    }\n",
              "    80% {\n",
              "      border-color: transparent;\n",
              "      border-right-color: var(--fill-color);\n",
              "      border-bottom-color: var(--fill-color);\n",
              "    }\n",
              "    90% {\n",
              "      border-color: transparent;\n",
              "      border-bottom-color: var(--fill-color);\n",
              "    }\n",
              "  }\n",
              "</style>\n",
              "\n",
              "  <script>\n",
              "    async function quickchart(key) {\n",
              "      const quickchartButtonEl =\n",
              "        document.querySelector('#' + key + ' button');\n",
              "      quickchartButtonEl.disabled = true;  // To prevent multiple clicks.\n",
              "      quickchartButtonEl.classList.add('colab-df-spinner');\n",
              "      try {\n",
              "        const charts = await google.colab.kernel.invokeFunction(\n",
              "            'suggestCharts', [key], {});\n",
              "      } catch (error) {\n",
              "        console.error('Error during call to suggestCharts:', error);\n",
              "      }\n",
              "      quickchartButtonEl.classList.remove('colab-df-spinner');\n",
              "      quickchartButtonEl.classList.add('colab-df-quickchart-complete');\n",
              "    }\n",
              "    (() => {\n",
              "      let quickchartButtonEl =\n",
              "        document.querySelector('#df-e9b74dd6-ebba-4415-a529-440190f77b12 button');\n",
              "      quickchartButtonEl.style.display =\n",
              "        google.colab.kernel.accessAllowed ? 'block' : 'none';\n",
              "    })();\n",
              "  </script>\n",
              "</div>\n",
              "\n",
              "    </div>\n",
              "  </div>\n"
            ],
            "application/vnd.google.colaboratory.intrinsic+json": {
              "type": "dataframe",
              "variable_name": "df_train",
              "summary": "{\n  \"name\": \"df_train\",\n  \"rows\": 38438,\n  \"fields\": [\n    {\n      \"column\": \"cc_num\",\n      \"properties\": {\n        \"dtype\": \"number\",\n        \"std\": 1308376370490573824,\n        \"min\": 60416207185,\n        \"max\": 4992350000000000000,\n        \"num_unique_values\": 943,\n        \"samples\": [\n          30176000000000,\n          341543000000000,\n          3556610000000000\n        ],\n        \"semantic_type\": \"\",\n        \"description\": \"\"\n      }\n    },\n    {\n      \"column\": \"merchant\",\n      \"properties\": {\n        \"dtype\": \"number\",\n        \"std\": 198,\n        \"min\": 0,\n        \"max\": 692,\n        \"num_unique_values\": 693,\n        \"samples\": [\n          215,\n          381,\n          580\n        ],\n        \"semantic_type\": \"\",\n        \"description\": \"\"\n      }\n    },\n    {\n      \"column\": \"category\",\n      \"properties\": {\n        \"dtype\": \"number\",\n        \"std\": 3,\n        \"min\": 0,\n        \"max\": 13,\n        \"num_unique_values\": 14,\n        \"samples\": [\n          8,\n          6,\n          4\n        ],\n        \"semantic_type\": \"\",\n        \"description\": \"\"\n      }\n    },\n    {\n      \"column\": \"amt\",\n      \"properties\": {\n        \"dtype\": \"number\",\n        \"std\": 247.58914865366137,\n        \"min\": 1.0,\n        \"max\": 11872.21,\n        \"num_unique_values\": 17066,\n        \"samples\": [\n          43.62,\n          137.84,\n          18.65\n        ],\n        \"semantic_type\": \"\",\n        \"description\": \"\"\n      }\n    },\n    {\n      \"column\": \"lat\",\n      \"properties\": {\n        \"dtype\": \"number\",\n        \"std\": 5.088026951060023,\n        \"min\": 20.0271,\n        \"max\": 66.6933,\n        \"num_unique_values\": 950,\n        \"samples\": [\n          33.615,\n          30.1382,\n          41.064\n        ],\n        \"semantic_type\": \"\",\n        \"description\": \"\"\n      }\n    },\n    {\n      \"column\": \"long\",\n      \"properties\": {\n        \"dtype\": \"number\",\n        \"std\": 13.957847093767448,\n        \"min\": -165.6723,\n        \"max\": -67.9503,\n        \"num_unique_values\": 951,\n        \"samples\": [\n          -79.1895,\n          -86.524,\n          -72.3366\n        ],\n        \"semantic_type\": \"\",\n        \"description\": \"\"\n      }\n    },\n    {\n      \"column\": \"unix_time\",\n      \"properties\": {\n        \"dtype\": \"number\",\n        \"std\": 6870539,\n        \"min\": 1325376018,\n        \"max\": 1362917373,\n        \"num_unique_values\": 38133,\n        \"samples\": [\n          1354489735,\n          1327125561,\n          1326908895\n        ],\n        \"semantic_type\": \"\",\n        \"description\": \"\"\n      }\n    },\n    {\n      \"column\": \"merch_lat\",\n      \"properties\": {\n        \"dtype\": \"number\",\n        \"std\": 5.121393610368968,\n        \"min\": 19.040141,\n        \"max\": 67.510267,\n        \"num_unique_values\": 38388,\n        \"samples\": [\n          41.290671,\n          47.931281,\n          28.800865\n        ],\n        \"semantic_type\": \"\",\n        \"description\": \"\"\n      }\n    },\n    {\n      \"column\": \"merch_long\",\n      \"properties\": {\n        \"dtype\": \"number\",\n        \"std\": 13.97231089821338,\n        \"min\": -166.629875,\n        \"max\": -66.967742,\n        \"num_unique_values\": 38419,\n        \"samples\": [\n          -88.380403,\n          -89.575283,\n          -83.229002\n        ],\n        \"semantic_type\": \"\",\n        \"description\": \"\"\n      }\n    },\n    {\n      \"column\": \"is_fraud\",\n      \"properties\": {\n        \"dtype\": \"number\",\n        \"std\": 0,\n        \"min\": 0,\n        \"max\": 1,\n        \"num_unique_values\": 2,\n        \"samples\": [\n          1,\n          0\n        ],\n        \"semantic_type\": \"\",\n        \"description\": \"\"\n      }\n    }\n  ]\n}"
            }
          },
          "metadata": {},
          "execution_count": 12
        }
      ]
    },
    {
      "cell_type": "markdown",
      "source": [
        "Aplicamos los cambios a test"
      ],
      "metadata": {
        "id": "a2rIuGIbMrhd"
      }
    },
    {
      "cell_type": "code",
      "source": [
        "#Eliminamos las columnas de tipo object\n",
        "df_test= df_test.drop(['first', 'last','gender','street','city','state','trans_num','job', 'dob','trans_date_trans_time'], axis=1)\n",
        "\n",
        "# Convertimos cc_num a tipo int para eliminar la notación científica\n",
        "df_test['cc_num'] = df_test['cc_num'].astype(int)\n",
        "\n",
        "#Eliminamos las columnas tipo numéricas\n",
        "df_test= df_test.drop(['Unnamed: 0', 'zip','city_pop'], axis=1)\n",
        "\n",
        "# Codificamos las variables\n",
        "le_merchant = LabelEncoder()\n",
        "le_category = LabelEncoder()\n",
        "df_test['merchant'] = le_merchant.fit_transform(df_test['merchant'])\n",
        "df_test['category'] = le_category.fit_transform(df_test['category'])\n",
        "\n",
        "# Comprobamos que todo se ha aplicado correctamente\n",
        "print(df_test.shape)\n",
        "df_test.head(5)"
      ],
      "metadata": {
        "colab": {
          "base_uri": "https://localhost:8080/",
          "height": 238
        },
        "id": "umRjhiguMr4W",
        "outputId": "9db255d1-5a3f-49b6-d28c-bd81e1d679b7"
      },
      "execution_count": null,
      "outputs": [
        {
          "output_type": "stream",
          "name": "stdout",
          "text": [
            "(9610, 10)\n"
          ]
        },
        {
          "output_type": "execute_result",
          "data": {
            "text/plain": [
              "                cc_num  merchant  category     amt      lat      long  \\\n",
              "0     4116550000000000       197         7  166.80  27.2625  -80.3793   \n",
              "1     4335530000000000       170         1   12.52  38.3511  -91.4867   \n",
              "2  4225990000000000000       425        12    7.73  20.0827 -155.4880   \n",
              "3     3573030000000000       627        12    4.24  40.3207 -110.4360   \n",
              "4  4769430000000000000       284        12    1.75  40.5553  -77.4001   \n",
              "\n",
              "    unix_time  merch_lat  merch_long  is_fraud  \n",
              "0  1325437607  27.704133  -80.623091         0  \n",
              "1  1325775929  38.535690  -92.208903         0  \n",
              "2  1326961509  20.417444 -155.494826         0  \n",
              "3  1325598531  40.581180 -110.183785         0  \n",
              "4  1325393326  41.166290  -78.109940         0  "
            ],
            "text/html": [
              "\n",
              "  <div id=\"df-f4ee8280-2b47-4ecf-9d90-df63f85f6205\" class=\"colab-df-container\">\n",
              "    <div>\n",
              "<style scoped>\n",
              "    .dataframe tbody tr th:only-of-type {\n",
              "        vertical-align: middle;\n",
              "    }\n",
              "\n",
              "    .dataframe tbody tr th {\n",
              "        vertical-align: top;\n",
              "    }\n",
              "\n",
              "    .dataframe thead th {\n",
              "        text-align: right;\n",
              "    }\n",
              "</style>\n",
              "<table border=\"1\" class=\"dataframe\">\n",
              "  <thead>\n",
              "    <tr style=\"text-align: right;\">\n",
              "      <th></th>\n",
              "      <th>cc_num</th>\n",
              "      <th>merchant</th>\n",
              "      <th>category</th>\n",
              "      <th>amt</th>\n",
              "      <th>lat</th>\n",
              "      <th>long</th>\n",
              "      <th>unix_time</th>\n",
              "      <th>merch_lat</th>\n",
              "      <th>merch_long</th>\n",
              "      <th>is_fraud</th>\n",
              "    </tr>\n",
              "  </thead>\n",
              "  <tbody>\n",
              "    <tr>\n",
              "      <th>0</th>\n",
              "      <td>4116550000000000</td>\n",
              "      <td>197</td>\n",
              "      <td>7</td>\n",
              "      <td>166.80</td>\n",
              "      <td>27.2625</td>\n",
              "      <td>-80.3793</td>\n",
              "      <td>1325437607</td>\n",
              "      <td>27.704133</td>\n",
              "      <td>-80.623091</td>\n",
              "      <td>0</td>\n",
              "    </tr>\n",
              "    <tr>\n",
              "      <th>1</th>\n",
              "      <td>4335530000000000</td>\n",
              "      <td>170</td>\n",
              "      <td>1</td>\n",
              "      <td>12.52</td>\n",
              "      <td>38.3511</td>\n",
              "      <td>-91.4867</td>\n",
              "      <td>1325775929</td>\n",
              "      <td>38.535690</td>\n",
              "      <td>-92.208903</td>\n",
              "      <td>0</td>\n",
              "    </tr>\n",
              "    <tr>\n",
              "      <th>2</th>\n",
              "      <td>4225990000000000000</td>\n",
              "      <td>425</td>\n",
              "      <td>12</td>\n",
              "      <td>7.73</td>\n",
              "      <td>20.0827</td>\n",
              "      <td>-155.4880</td>\n",
              "      <td>1326961509</td>\n",
              "      <td>20.417444</td>\n",
              "      <td>-155.494826</td>\n",
              "      <td>0</td>\n",
              "    </tr>\n",
              "    <tr>\n",
              "      <th>3</th>\n",
              "      <td>3573030000000000</td>\n",
              "      <td>627</td>\n",
              "      <td>12</td>\n",
              "      <td>4.24</td>\n",
              "      <td>40.3207</td>\n",
              "      <td>-110.4360</td>\n",
              "      <td>1325598531</td>\n",
              "      <td>40.581180</td>\n",
              "      <td>-110.183785</td>\n",
              "      <td>0</td>\n",
              "    </tr>\n",
              "    <tr>\n",
              "      <th>4</th>\n",
              "      <td>4769430000000000000</td>\n",
              "      <td>284</td>\n",
              "      <td>12</td>\n",
              "      <td>1.75</td>\n",
              "      <td>40.5553</td>\n",
              "      <td>-77.4001</td>\n",
              "      <td>1325393326</td>\n",
              "      <td>41.166290</td>\n",
              "      <td>-78.109940</td>\n",
              "      <td>0</td>\n",
              "    </tr>\n",
              "  </tbody>\n",
              "</table>\n",
              "</div>\n",
              "    <div class=\"colab-df-buttons\">\n",
              "\n",
              "  <div class=\"colab-df-container\">\n",
              "    <button class=\"colab-df-convert\" onclick=\"convertToInteractive('df-f4ee8280-2b47-4ecf-9d90-df63f85f6205')\"\n",
              "            title=\"Convert this dataframe to an interactive table.\"\n",
              "            style=\"display:none;\">\n",
              "\n",
              "  <svg xmlns=\"http://www.w3.org/2000/svg\" height=\"24px\" viewBox=\"0 -960 960 960\">\n",
              "    <path d=\"M120-120v-720h720v720H120Zm60-500h600v-160H180v160Zm220 220h160v-160H400v160Zm0 220h160v-160H400v160ZM180-400h160v-160H180v160Zm440 0h160v-160H620v160ZM180-180h160v-160H180v160Zm440 0h160v-160H620v160Z\"/>\n",
              "  </svg>\n",
              "    </button>\n",
              "\n",
              "  <style>\n",
              "    .colab-df-container {\n",
              "      display:flex;\n",
              "      gap: 12px;\n",
              "    }\n",
              "\n",
              "    .colab-df-convert {\n",
              "      background-color: #E8F0FE;\n",
              "      border: none;\n",
              "      border-radius: 50%;\n",
              "      cursor: pointer;\n",
              "      display: none;\n",
              "      fill: #1967D2;\n",
              "      height: 32px;\n",
              "      padding: 0 0 0 0;\n",
              "      width: 32px;\n",
              "    }\n",
              "\n",
              "    .colab-df-convert:hover {\n",
              "      background-color: #E2EBFA;\n",
              "      box-shadow: 0px 1px 2px rgba(60, 64, 67, 0.3), 0px 1px 3px 1px rgba(60, 64, 67, 0.15);\n",
              "      fill: #174EA6;\n",
              "    }\n",
              "\n",
              "    .colab-df-buttons div {\n",
              "      margin-bottom: 4px;\n",
              "    }\n",
              "\n",
              "    [theme=dark] .colab-df-convert {\n",
              "      background-color: #3B4455;\n",
              "      fill: #D2E3FC;\n",
              "    }\n",
              "\n",
              "    [theme=dark] .colab-df-convert:hover {\n",
              "      background-color: #434B5C;\n",
              "      box-shadow: 0px 1px 3px 1px rgba(0, 0, 0, 0.15);\n",
              "      filter: drop-shadow(0px 1px 2px rgba(0, 0, 0, 0.3));\n",
              "      fill: #FFFFFF;\n",
              "    }\n",
              "  </style>\n",
              "\n",
              "    <script>\n",
              "      const buttonEl =\n",
              "        document.querySelector('#df-f4ee8280-2b47-4ecf-9d90-df63f85f6205 button.colab-df-convert');\n",
              "      buttonEl.style.display =\n",
              "        google.colab.kernel.accessAllowed ? 'block' : 'none';\n",
              "\n",
              "      async function convertToInteractive(key) {\n",
              "        const element = document.querySelector('#df-f4ee8280-2b47-4ecf-9d90-df63f85f6205');\n",
              "        const dataTable =\n",
              "          await google.colab.kernel.invokeFunction('convertToInteractive',\n",
              "                                                    [key], {});\n",
              "        if (!dataTable) return;\n",
              "\n",
              "        const docLinkHtml = 'Like what you see? Visit the ' +\n",
              "          '<a target=\"_blank\" href=https://colab.research.google.com/notebooks/data_table.ipynb>data table notebook</a>'\n",
              "          + ' to learn more about interactive tables.';\n",
              "        element.innerHTML = '';\n",
              "        dataTable['output_type'] = 'display_data';\n",
              "        await google.colab.output.renderOutput(dataTable, element);\n",
              "        const docLink = document.createElement('div');\n",
              "        docLink.innerHTML = docLinkHtml;\n",
              "        element.appendChild(docLink);\n",
              "      }\n",
              "    </script>\n",
              "  </div>\n",
              "\n",
              "\n",
              "<div id=\"df-d5fc22bf-6b8b-476d-bfb5-18811c3d7bbb\">\n",
              "  <button class=\"colab-df-quickchart\" onclick=\"quickchart('df-d5fc22bf-6b8b-476d-bfb5-18811c3d7bbb')\"\n",
              "            title=\"Suggest charts\"\n",
              "            style=\"display:none;\">\n",
              "\n",
              "<svg xmlns=\"http://www.w3.org/2000/svg\" height=\"24px\"viewBox=\"0 0 24 24\"\n",
              "     width=\"24px\">\n",
              "    <g>\n",
              "        <path d=\"M19 3H5c-1.1 0-2 .9-2 2v14c0 1.1.9 2 2 2h14c1.1 0 2-.9 2-2V5c0-1.1-.9-2-2-2zM9 17H7v-7h2v7zm4 0h-2V7h2v10zm4 0h-2v-4h2v4z\"/>\n",
              "    </g>\n",
              "</svg>\n",
              "  </button>\n",
              "\n",
              "<style>\n",
              "  .colab-df-quickchart {\n",
              "      --bg-color: #E8F0FE;\n",
              "      --fill-color: #1967D2;\n",
              "      --hover-bg-color: #E2EBFA;\n",
              "      --hover-fill-color: #174EA6;\n",
              "      --disabled-fill-color: #AAA;\n",
              "      --disabled-bg-color: #DDD;\n",
              "  }\n",
              "\n",
              "  [theme=dark] .colab-df-quickchart {\n",
              "      --bg-color: #3B4455;\n",
              "      --fill-color: #D2E3FC;\n",
              "      --hover-bg-color: #434B5C;\n",
              "      --hover-fill-color: #FFFFFF;\n",
              "      --disabled-bg-color: #3B4455;\n",
              "      --disabled-fill-color: #666;\n",
              "  }\n",
              "\n",
              "  .colab-df-quickchart {\n",
              "    background-color: var(--bg-color);\n",
              "    border: none;\n",
              "    border-radius: 50%;\n",
              "    cursor: pointer;\n",
              "    display: none;\n",
              "    fill: var(--fill-color);\n",
              "    height: 32px;\n",
              "    padding: 0;\n",
              "    width: 32px;\n",
              "  }\n",
              "\n",
              "  .colab-df-quickchart:hover {\n",
              "    background-color: var(--hover-bg-color);\n",
              "    box-shadow: 0 1px 2px rgba(60, 64, 67, 0.3), 0 1px 3px 1px rgba(60, 64, 67, 0.15);\n",
              "    fill: var(--button-hover-fill-color);\n",
              "  }\n",
              "\n",
              "  .colab-df-quickchart-complete:disabled,\n",
              "  .colab-df-quickchart-complete:disabled:hover {\n",
              "    background-color: var(--disabled-bg-color);\n",
              "    fill: var(--disabled-fill-color);\n",
              "    box-shadow: none;\n",
              "  }\n",
              "\n",
              "  .colab-df-spinner {\n",
              "    border: 2px solid var(--fill-color);\n",
              "    border-color: transparent;\n",
              "    border-bottom-color: var(--fill-color);\n",
              "    animation:\n",
              "      spin 1s steps(1) infinite;\n",
              "  }\n",
              "\n",
              "  @keyframes spin {\n",
              "    0% {\n",
              "      border-color: transparent;\n",
              "      border-bottom-color: var(--fill-color);\n",
              "      border-left-color: var(--fill-color);\n",
              "    }\n",
              "    20% {\n",
              "      border-color: transparent;\n",
              "      border-left-color: var(--fill-color);\n",
              "      border-top-color: var(--fill-color);\n",
              "    }\n",
              "    30% {\n",
              "      border-color: transparent;\n",
              "      border-left-color: var(--fill-color);\n",
              "      border-top-color: var(--fill-color);\n",
              "      border-right-color: var(--fill-color);\n",
              "    }\n",
              "    40% {\n",
              "      border-color: transparent;\n",
              "      border-right-color: var(--fill-color);\n",
              "      border-top-color: var(--fill-color);\n",
              "    }\n",
              "    60% {\n",
              "      border-color: transparent;\n",
              "      border-right-color: var(--fill-color);\n",
              "    }\n",
              "    80% {\n",
              "      border-color: transparent;\n",
              "      border-right-color: var(--fill-color);\n",
              "      border-bottom-color: var(--fill-color);\n",
              "    }\n",
              "    90% {\n",
              "      border-color: transparent;\n",
              "      border-bottom-color: var(--fill-color);\n",
              "    }\n",
              "  }\n",
              "</style>\n",
              "\n",
              "  <script>\n",
              "    async function quickchart(key) {\n",
              "      const quickchartButtonEl =\n",
              "        document.querySelector('#' + key + ' button');\n",
              "      quickchartButtonEl.disabled = true;  // To prevent multiple clicks.\n",
              "      quickchartButtonEl.classList.add('colab-df-spinner');\n",
              "      try {\n",
              "        const charts = await google.colab.kernel.invokeFunction(\n",
              "            'suggestCharts', [key], {});\n",
              "      } catch (error) {\n",
              "        console.error('Error during call to suggestCharts:', error);\n",
              "      }\n",
              "      quickchartButtonEl.classList.remove('colab-df-spinner');\n",
              "      quickchartButtonEl.classList.add('colab-df-quickchart-complete');\n",
              "    }\n",
              "    (() => {\n",
              "      let quickchartButtonEl =\n",
              "        document.querySelector('#df-d5fc22bf-6b8b-476d-bfb5-18811c3d7bbb button');\n",
              "      quickchartButtonEl.style.display =\n",
              "        google.colab.kernel.accessAllowed ? 'block' : 'none';\n",
              "    })();\n",
              "  </script>\n",
              "</div>\n",
              "\n",
              "    </div>\n",
              "  </div>\n"
            ],
            "application/vnd.google.colaboratory.intrinsic+json": {
              "type": "dataframe",
              "variable_name": "df_test",
              "summary": "{\n  \"name\": \"df_test\",\n  \"rows\": 9610,\n  \"fields\": [\n    {\n      \"column\": \"cc_num\",\n      \"properties\": {\n        \"dtype\": \"number\",\n        \"std\": 1282545775389524480,\n        \"min\": 60416207185,\n        \"max\": 4992350000000000000,\n        \"num_unique_values\": 928,\n        \"samples\": [\n          676195000000,\n          3577600000000000,\n          4587580000000000\n        ],\n        \"semantic_type\": \"\",\n        \"description\": \"\"\n      }\n    },\n    {\n      \"column\": \"merchant\",\n      \"properties\": {\n        \"dtype\": \"number\",\n        \"std\": 200,\n        \"min\": 0,\n        \"max\": 692,\n        \"num_unique_values\": 693,\n        \"samples\": [\n          572,\n          62,\n          642\n        ],\n        \"semantic_type\": \"\",\n        \"description\": \"\"\n      }\n    },\n    {\n      \"column\": \"category\",\n      \"properties\": {\n        \"dtype\": \"number\",\n        \"std\": 3,\n        \"min\": 0,\n        \"max\": 13,\n        \"num_unique_values\": 14,\n        \"samples\": [\n          13,\n          10,\n          7\n        ],\n        \"semantic_type\": \"\",\n        \"description\": \"\"\n      }\n    },\n    {\n      \"column\": \"amt\",\n      \"properties\": {\n        \"dtype\": \"number\",\n        \"std\": 227.0533618519371,\n        \"min\": 1.0,\n        \"max\": 2330.68,\n        \"num_unique_values\": 6929,\n        \"samples\": [\n          87.7,\n          43.9,\n          102.19\n        ],\n        \"semantic_type\": \"\",\n        \"description\": \"\"\n      }\n    },\n    {\n      \"column\": \"lat\",\n      \"properties\": {\n        \"dtype\": \"number\",\n        \"std\": 5.100427098726285,\n        \"min\": 20.0271,\n        \"max\": 66.6933,\n        \"num_unique_values\": 934,\n        \"samples\": [\n          37.575,\n          34.7031,\n          42.7012\n        ],\n        \"semantic_type\": \"\",\n        \"description\": \"\"\n      }\n    },\n    {\n      \"column\": \"long\",\n      \"properties\": {\n        \"dtype\": \"number\",\n        \"std\": 13.828568112631656,\n        \"min\": -165.6723,\n        \"max\": -67.9503,\n        \"num_unique_values\": 935,\n        \"samples\": [\n          -88.9655,\n          -86.3068,\n          -92.0762\n        ],\n        \"semantic_type\": \"\",\n        \"description\": \"\"\n      }\n    },\n    {\n      \"column\": \"unix_time\",\n      \"properties\": {\n        \"dtype\": \"number\",\n        \"std\": 7080926,\n        \"min\": 1325376076,\n        \"max\": 1362887989,\n        \"num_unique_values\": 9585,\n        \"samples\": [\n          1326833637,\n          1325587988,\n          1326057889\n        ],\n        \"semantic_type\": \"\",\n        \"description\": \"\"\n      }\n    },\n    {\n      \"column\": \"merch_lat\",\n      \"properties\": {\n        \"dtype\": \"number\",\n        \"std\": 5.1265773306816484,\n        \"min\": 19.348387,\n        \"max\": 66.659242,\n        \"num_unique_values\": 9608,\n        \"samples\": [\n          41.372698,\n          30.369401,\n          39.300334\n        ],\n        \"semantic_type\": \"\",\n        \"description\": \"\"\n      }\n    },\n    {\n      \"column\": \"merch_long\",\n      \"properties\": {\n        \"dtype\": \"number\",\n        \"std\": 13.84725265182111,\n        \"min\": -166.539712,\n        \"max\": -67.138949,\n        \"num_unique_values\": 9608,\n        \"samples\": [\n          -90.387812,\n          -123.170681,\n          -86.087496\n        ],\n        \"semantic_type\": \"\",\n        \"description\": \"\"\n      }\n    },\n    {\n      \"column\": \"is_fraud\",\n      \"properties\": {\n        \"dtype\": \"number\",\n        \"std\": 0,\n        \"min\": 0,\n        \"max\": 1,\n        \"num_unique_values\": 2,\n        \"samples\": [\n          1,\n          0\n        ],\n        \"semantic_type\": \"\",\n        \"description\": \"\"\n      }\n    }\n  ]\n}"
            }
          },
          "metadata": {},
          "execution_count": 13
        }
      ]
    },
    {
      "cell_type": "markdown",
      "source": [
        "Distribución de fraudes no fraudes en train"
      ],
      "metadata": {
        "id": "7ENjO_JKM1Cn"
      }
    },
    {
      "cell_type": "code",
      "source": [
        "# Contamos la cantidad de registros fraudulentos y no fraudulentos\n",
        "fraud_counts = df_train['is_fraud'].value_counts().reset_index()\n",
        "fraud_counts.columns = ['is_fraud', 'count']\n",
        "\n",
        "# Convertimos los valores de 'is_fraud' a etiquetas más comprensibles\n",
        "fraud_counts['is_fraud'] = fraud_counts['is_fraud'].replace({0: 'No Fraude', 1: 'Fraude'})\n",
        "\n",
        "# Calculamos los porcentajes\n",
        "total_records = df_train.shape[0]\n",
        "fraud_counts['percentage'] = (fraud_counts['count'] / total_records) * 100\n",
        "print(fraud_counts)"
      ],
      "metadata": {
        "colab": {
          "base_uri": "https://localhost:8080/"
        },
        "id": "qTx3NzNLM1mr",
        "outputId": "f24193c8-7cae-44fb-d174-11fabedb9405"
      },
      "execution_count": null,
      "outputs": [
        {
          "output_type": "stream",
          "name": "stdout",
          "text": [
            "    is_fraud  count  percentage\n",
            "0  No Fraude  33645   87.530569\n",
            "1     Fraude   4793   12.469431\n"
          ]
        }
      ]
    },
    {
      "cell_type": "markdown",
      "source": [
        "Distribución de fraudes y no fraudes en test"
      ],
      "metadata": {
        "id": "9N3JJqAIM6LG"
      }
    },
    {
      "cell_type": "code",
      "source": [
        "# Contamos la cantidad de registros fraudulentos y no fraudulentos\n",
        "fraud_counts = df_test['is_fraud'].value_counts().reset_index()\n",
        "fraud_counts.columns = ['is_fraud', 'count']\n",
        "\n",
        "# Convertimos los valores de 'is_fraud' a etiquetas más comprensibles\n",
        "fraud_counts['is_fraud'] = fraud_counts['is_fraud'].replace({0: 'No Fraude', 1: 'Fraude'})\n",
        "\n",
        "# Calculamos los porcentajes\n",
        "total_records = df_test.shape[0]\n",
        "fraud_counts['percentage'] = (fraud_counts['count'] / total_records) * 100\n",
        "print(fraud_counts)"
      ],
      "metadata": {
        "colab": {
          "base_uri": "https://localhost:8080/"
        },
        "id": "R4fiCfj7M3ZB",
        "outputId": "89564675-01c6-4bd5-8769-e18f41160f2a"
      },
      "execution_count": null,
      "outputs": [
        {
          "output_type": "stream",
          "name": "stdout",
          "text": [
            "    is_fraud  count  percentage\n",
            "0  No Fraude   8397   87.377732\n",
            "1     Fraude   1213   12.622268\n"
          ]
        }
      ]
    },
    {
      "cell_type": "code",
      "source": [
        "# creamos variables standard\n",
        "x_features_train = df_train.drop(columns=['is_fraud'])\n",
        "y_target_train = df_train['is_fraud']\n",
        "\n",
        "x_features_test = df_test.drop(columns=['is_fraud'])\n",
        "y_target_test = df_test['is_fraud']"
      ],
      "metadata": {
        "id": "x7V4OYgkKAKM"
      },
      "execution_count": null,
      "outputs": []
    },
    {
      "cell_type": "code",
      "source": [
        "# Procedemos a escalar los datos tanto en Train como en Test, reutilizando el scaler entrenado en Train\n",
        "\n",
        "# Escalamos (con los datos de train)\n",
        "scaler = preprocessing.StandardScaler().fit(x_features_train)\n",
        "XtrainScaled = scaler.transform(x_features_train)\n",
        "\n",
        "# recordad que esta normalización/escalado la realizo con el scaler anterior, basado en los datos de training!\n",
        "XtestScaled = scaler.transform(x_features_test)"
      ],
      "metadata": {
        "id": "8yq-n_weXY1N"
      },
      "execution_count": null,
      "outputs": []
    },
    {
      "cell_type": "code",
      "source": [
        "print('Datos entrenamiento: ', XtrainScaled.shape)\n",
        "print('Datos test: ', XtestScaled.shape)"
      ],
      "metadata": {
        "colab": {
          "base_uri": "https://localhost:8080/"
        },
        "id": "s_EY1PDdXnx4",
        "outputId": "b52c55c0-a599-4938-86f5-25e07da8681c"
      },
      "execution_count": null,
      "outputs": [
        {
          "output_type": "stream",
          "name": "stdout",
          "text": [
            "Datos entrenamiento:  (38438, 9)\n",
            "Datos test:  (9610, 9)\n"
          ]
        }
      ]
    },
    {
      "cell_type": "code",
      "source": [
        "# Configuramos una semilla que va a ser utilizada para entrenar todos los modelos\n",
        "global_seed = 42\n",
        "\n",
        "# Creamos un array de modelos an entrenar\n",
        "# Como va a ser una revisión general de modelos, no se pone mucho enfasis\n",
        "# en configurar los diferentes parámetres\n",
        "models = []\n",
        "models.append((\"Random Forest\", RandomForestClassifier(random_state=global_seed)))\n",
        "models.append((\"LASSO\", lm.LogisticRegression(random_state=global_seed)))\n",
        "models.append((\"KNN\", KNeighborsClassifier()))\n",
        "models.append((\"Decision Tree\", DecisionTreeClassifier(random_state=global_seed)))\n",
        "models.append((\"SVM\", SVC(random_state=global_seed)))\n",
        "models.append((\"Gradient Boosting\", GradientBoostingClassifier(random_state=global_seed)\n",
        "))\n",
        "\n",
        "# Creamos arrays para almacenar los resultados\n",
        "results = []\n",
        "names = []\n",
        "fitted_models = []\n",
        "\n",
        "# setemos en 0 los mejores resultados\n",
        "best_mean_result = 0\n",
        "best_std_result = 0\n",
        "\n",
        "# Corremos todos los modelos utilizando StratifiedKFlod y cross_val_score\n",
        "for name, model in models:\n",
        "  kfold = StratifiedKFold()\n",
        "  cv_results = cross_val_score(model, XtrainScaled, y_target_train, scoring='accuracy', cv=kfold)\n",
        "  results.append(cv_results)\n",
        "  names.append(name)\n",
        "  print(name + \": mean(accuracy)=\" + str(round(np.mean(cv_results), 6)) + \", std(accuracy)=\" + str(round(np.std(cv_results), 6)))\n",
        "  model.fit(XtrainScaled, y_target_train)  # Entrenamos el modelo\n",
        "  fitted_models.append((name, model))  # Guardamos el modelo entrenado\n",
        "\n",
        "  if (best_mean_result < np.mean(cv_results)) or \\\n",
        "    ((best_mean_result == np.mean(cv_results)) and (best_std_result > np.std(cv_results))):\n",
        "    best_mean_result = np.mean(cv_results)\n",
        "    best_std_result = np.std(cv_results)\n",
        "    best_model_name = name\n",
        "    best_model = model\n",
        "print(\"\\nEl mejor modelo es:\\n\" + best_model_name)"
      ],
      "metadata": {
        "colab": {
          "base_uri": "https://localhost:8080/"
        },
        "id": "2UoTcnPYKBSP",
        "outputId": "01d47e7c-0c3c-46b9-d8a6-4dd9e06ec29c"
      },
      "execution_count": null,
      "outputs": [
        {
          "output_type": "stream",
          "name": "stdout",
          "text": [
            "Random Forest: mean(accuracy)=0.996488, std(accuracy)=0.000411\n",
            "LASSO: mean(accuracy)=0.987955, std(accuracy)=0.000911\n",
            "KNN: mean(accuracy)=0.984859, std(accuracy)=0.001\n",
            "Decision Tree: mean(accuracy)=0.994693, std(accuracy)=0.00069\n",
            "SVM: mean(accuracy)=0.989776, std(accuracy)=0.000762\n",
            "Gradient Boosting: mean(accuracy)=0.995161, std(accuracy)=0.000482\n",
            "\n",
            "El mejor modelo es:\n",
            "Random Forest\n"
          ]
        }
      ]
    },
    {
      "cell_type": "code",
      "source": [
        "plt.boxplot(results, labels=names)\n",
        "plt.title(\"Accuracy de los diferentes Modelos\")\n",
        "plt.show()"
      ],
      "metadata": {
        "colab": {
          "base_uri": "https://localhost:8080/",
          "height": 473
        },
        "id": "us-J4mXyLMu-",
        "outputId": "9390eef3-776e-4c97-efe4-012b9403ea03"
      },
      "execution_count": null,
      "outputs": [
        {
          "output_type": "display_data",
          "data": {
            "text/plain": [
              "<Figure size 640x480 with 1 Axes>"
            ],
            "image/png": "[encoded data removed]"
          },
          "metadata": {}
        }
      ]
    },
    {
      "cell_type": "code",
      "source": [
        "# modelo a entrenar\n",
        "model = RandomForestClassifier()\n",
        "\n",
        "# Elegimos algunos hiperparámetros para buscar el óptimo\n",
        "params = {\"n_estimators\": range(10, 31, 3),\n",
        "           \"min_samples_split\": range(2, 10, 2)}\n",
        "\n",
        "# Entrenamos usando grid_search para encontrar los hiperparámetros óptimos\n",
        "grid_search = GridSearchCV(model, params)\n",
        "grid_search.fit(XtrainScaled, y_target_train)\n",
        "\n",
        "print(\"El 'n_estimators' optimo es:\", grid_search.best_params_[\"n_estimators\"])\n",
        "print(\"El 'min_samples_split' optimo es:\", grid_search.best_params_[\"min_samples_split\"])"
      ],
      "metadata": {
        "colab": {
          "base_uri": "https://localhost:8080/"
        },
        "id": "ePRGOIzhN4Qe",
        "outputId": "0b64ee8c-09a7-4ea3-9e5a-6b7473a81f1b"
      },
      "execution_count": null,
      "outputs": [
        {
          "output_type": "stream",
          "name": "stdout",
          "text": [
            "El 'n_estimators' optimo es: 28\n",
            "El 'min_samples_split' optimo es: 2\n"
          ]
        }
      ]
    },
    {
      "cell_type": "code",
      "source": [
        "# Configuramos el modelo con los hiperparámetros óptimos\n",
        "model = RandomForestClassifier(n_estimators=grid_search.best_params_[\"n_estimators\"],\n",
        "                                min_samples_split=grid_search.best_params_[\"min_samples_split\"],\n",
        "                                )\n",
        "\n",
        "# Entrenamos el modelo\n",
        "model.fit(XtrainScaled, y_target_train)"
      ],
      "metadata": {
        "colab": {
          "base_uri": "https://localhost:8080/",
          "height": 93
        },
        "id": "pd8x1NBUPTrW",
        "outputId": "d2594656-9548-4f0f-8ad5-7732d58409ca"
      },
      "execution_count": null,
      "outputs": [
        {
          "output_type": "execute_result",
          "data": {
            "text/plain": [
              "RandomForestClassifier(n_estimators=28)"
            ],
            "text/html": [
              "<style>#sk-container-id-2 {color: black;background-color: white;}#sk-container-id-2 pre{padding: 0;}#sk-container-id-2 div.sk-toggleable {background-color: white;}#sk-container-id-2 label.sk-toggleable__label {cursor: pointer;display: block;width: 100%;margin-bottom: 0;padding: 0.3em;box-sizing: border-box;text-align: center;}#sk-container-id-2 label.sk-toggleable__label-arrow:before {content: \"▸\";float: left;margin-right: 0.25em;color: #696969;}#sk-container-id-2 label.sk-toggleable__label-arrow:hover:before {color: black;}#sk-container-id-2 div.sk-estimator:hover label.sk-toggleable__label-arrow:before {color: black;}#sk-container-id-2 div.sk-toggleable__content {max-height: 0;max-width: 0;overflow: hidden;text-align: left;background-color: #f0f8ff;}#sk-container-id-2 div.sk-toggleable__content pre {margin: 0.2em;color: black;border-radius: 0.25em;background-color: #f0f8ff;}#sk-container-id-2 input.sk-toggleable__control:checked~div.sk-toggleable__content {max-height: 200px;max-width: 100%;overflow: auto;}#sk-container-id-2 input.sk-toggleable__control:checked~label.sk-toggleable__label-arrow:before {content: \"▾\";}#sk-container-id-2 div.sk-estimator input.sk-toggleable__control:checked~label.sk-toggleable__label {background-color: #d4ebff;}#sk-container-id-2 div.sk-label input.sk-toggleable__control:checked~label.sk-toggleable__label {background-color: #d4ebff;}#sk-container-id-2 input.sk-hidden--visually {border: 0;clip: rect(1px 1px 1px 1px);clip: rect(1px, 1px, 1px, 1px);height: 1px;margin: -1px;overflow: hidden;padding: 0;position: absolute;width: 1px;}#sk-container-id-2 div.sk-estimator {font-family: monospace;background-color: #f0f8ff;border: 1px dotted black;border-radius: 0.25em;box-sizing: border-box;margin-bottom: 0.5em;}#sk-container-id-2 div.sk-estimator:hover {background-color: #d4ebff;}#sk-container-id-2 div.sk-parallel-item::after {content: \"\";width: 100%;border-bottom: 1px solid gray;flex-grow: 1;}#sk-container-id-2 div.sk-label:hover label.sk-toggleable__label {background-color: #d4ebff;}#sk-container-id-2 div.sk-serial::before {content: \"\";position: absolute;border-left: 1px solid gray;box-sizing: border-box;top: 0;bottom: 0;left: 50%;z-index: 0;}#sk-container-id-2 div.sk-serial {display: flex;flex-direction: column;align-items: center;background-color: white;padding-right: 0.2em;padding-left: 0.2em;position: relative;}#sk-container-id-2 div.sk-item {position: relative;z-index: 1;}#sk-container-id-2 div.sk-parallel {display: flex;align-items: stretch;justify-content: center;background-color: white;position: relative;}#sk-container-id-2 div.sk-item::before, #sk-container-id-2 div.sk-parallel-item::before {content: \"\";position: absolute;border-left: 1px solid gray;box-sizing: border-box;top: 0;bottom: 0;left: 50%;z-index: -1;}#sk-container-id-2 div.sk-parallel-item {display: flex;flex-direction: column;z-index: 1;position: relative;background-color: white;}#sk-container-id-2 div.sk-parallel-item:first-child::after {align-self: flex-end;width: 50%;}#sk-container-id-2 div.sk-parallel-item:last-child::after {align-self: flex-start;width: 50%;}#sk-container-id-2 div.sk-parallel-item:only-child::after {width: 0;}#sk-container-id-2 div.sk-dashed-wrapped {border: 1px dashed gray;margin: 0 0.4em 0.5em 0.4em;box-sizing: border-box;padding-bottom: 0.4em;background-color: white;}#sk-container-id-2 div.sk-label label {font-family: monospace;font-weight: bold;display: inline-block;line-height: 1.2em;}#sk-container-id-2 div.sk-label-container {text-align: center;}#sk-container-id-2 div.sk-container {/* jupyter's `normalize.less` sets `[hidden] { display: none; }` but bootstrap.min.css set `[hidden] { display: none !important; }` so we also need the `!important` here to be able to override the default hidden behavior on the sphinx rendered scikit-learn.org. See: https://github.com/scikit-learn/scikit-learn/issues/21755 */display: inline-block !important;position: relative;}#sk-container-id-2 div.sk-text-repr-fallback {display: none;}</style><div id=\"sk-container-id-2\" class=\"sk-top-container\"><div class=\"sk-text-repr-fallback\"><pre>RandomForestClassifier(n_estimators=28)</pre><b>In a Jupyter environment, please rerun this cell to show the HTML representation or trust the notebook. <br />On GitHub, the HTML representation is unable to render, please try loading this page with nbviewer.org.</b></div><div class=\"sk-container\" hidden><div class=\"sk-item\"><div class=\"sk-estimator sk-toggleable\"><input class=\"sk-toggleable__control sk-hidden--visually\" id=\"sk-estimator-id-2\" type=\"checkbox\" checked><label for=\"sk-estimator-id-2\" class=\"sk-toggleable__label sk-toggleable__label-arrow\">RandomForestClassifier</label><div class=\"sk-toggleable__content\"><pre>RandomForestClassifier(n_estimators=28)</pre></div></div></div></div></div>"
            ]
          },
          "metadata": {},
          "execution_count": 44
        }
      ]
    },
    {
      "cell_type": "code",
      "source": [
        "y_train_estimated = model.predict(XtrainScaled)\n",
        "accuracy_train = np.mean(y_train_estimated == y_target_train)\n",
        "baseline_accuracy_train = np.mean(0 == y_target_train)\n",
        "if(baseline_accuracy_train != 0):\n",
        "  accuracy_lift_train = 100 * (accuracy_train/baseline_accuracy_train - 1)\n",
        "else:\n",
        "  accuracy_lift_train = 0\n",
        "\n",
        "print(\"Resultados en TRAIN utilizando Random Forest:\\n-------------------------\")\n",
        "print(\"Baseline accuracy:\", round(baseline_accuracy_train, 6))\n",
        "print(\"accuracy:\", round(accuracy_train, 6))\n",
        "print(\"accuracy lift:\", round(accuracy_lift_train), \"%\")"
      ],
      "metadata": {
        "colab": {
          "base_uri": "https://localhost:8080/"
        },
        "id": "q7eVKnDpPnDu",
        "outputId": "23dca81b-38a3-4ce1-f87f-8dd4166dbf96"
      },
      "execution_count": null,
      "outputs": [
        {
          "output_type": "stream",
          "name": "stdout",
          "text": [
            "Resultados en TRAIN utilizando Random Forest:\n",
            "-------------------------\n",
            "Baseline accuracy: 0.875306\n",
            "accuracy: 0.999922\n",
            "accuracy lift: 14 %\n"
          ]
        }
      ]
    },
    {
      "cell_type": "code",
      "source": [
        "y_test_estimated = model.predict(XtestScaled)\n",
        "accuracy_test = np.mean(y_test_estimated == y_target_test)\n",
        "baseline_accuracy_test = np.mean(0 == y_target_test)\n",
        "if(baseline_accuracy_train != 0):\n",
        "  accuracy_lift = 100 * (accuracy_test/baseline_accuracy_test - 1)\n",
        "else:\n",
        "  accuracy_lift = 0\n",
        "\n",
        "print(\"Resultados en TEST utilizando Random Forest:\\n-------------------------\")\n",
        "print(\"Baseline accuracy:\", round(baseline_accuracy_test, 6))\n",
        "print(\"accuracy:\", round(accuracy_test, 6))\n",
        "print(\"accuracy lift:\", round(accuracy_lift), \"%\")"
      ],
      "metadata": {
        "colab": {
          "base_uri": "https://localhost:8080/"
        },
        "id": "LNEIxFZqPtBZ",
        "outputId": "bbada10c-3ac5-42a7-ad33-e95822ac6c8c"
      },
      "execution_count": null,
      "outputs": [
        {
          "output_type": "stream",
          "name": "stdout",
          "text": [
            "Resultados en TEST utilizando Random Forest:\n",
            "-------------------------\n",
            "Baseline accuracy: 0.873777\n",
            "accuracy: 0.996358\n",
            "accuracy lift: 14 %\n"
          ]
        }
      ]
    },
    {
      "cell_type": "code",
      "source": [
        "# Cálculo de RMSE y MAE para los datos de entrenamiento y test\n",
        "# Para los datos de entrenamiento\n",
        "rmse_train = mean_squared_error(y_target_train, y_train_estimated, squared=False)\n",
        "mae_train = mean_absolute_error(y_target_train, y_train_estimated)\n",
        "\n",
        "print(\"Resultados en TRAIN utilizando Random Forest:\\n-------------------------\")\n",
        "print(\"RMSE:\", round(rmse_train, 6))\n",
        "print(\"MAE:\", round(mae_train, 6))"
      ],
      "metadata": {
        "colab": {
          "base_uri": "https://localhost:8080/"
        },
        "id": "E3-Q7fE3TvVn",
        "outputId": "8501e649-89ba-4f5b-96ec-f2d605214d1e"
      },
      "execution_count": null,
      "outputs": [
        {
          "output_type": "stream",
          "name": "stdout",
          "text": [
            "Resultados en TRAIN utilizando Random Forest:\n",
            "-------------------------\n",
            "RMSE: 0.008834\n",
            "MAE: 7.8e-05\n"
          ]
        }
      ]
    },
    {
      "cell_type": "code",
      "source": [
        "# Para los datos de test\n",
        "rmse_test = mean_squared_error(y_target_test, y_test_estimated, squared=False)\n",
        "mae_test = mean_absolute_error(y_target_test, y_test_estimated)\n",
        "\n",
        "print(\"Resultados en TEST utilizando Random Forest:\\n-------------------------\")\n",
        "print(\"RMSE:\", round(rmse_test, 6))\n",
        "print(\"MAE:\", round(mae_test, 6))"
      ],
      "metadata": {
        "colab": {
          "base_uri": "https://localhost:8080/"
        },
        "id": "RMhxuqmhTs1Y",
        "outputId": "a6486c24-8e50-4d07-daed-35077bcfdda8"
      },
      "execution_count": null,
      "outputs": [
        {
          "output_type": "stream",
          "name": "stdout",
          "text": [
            "Resultados en TEST utilizando Random Forest:\n",
            "-------------------------\n",
            "RMSE: 0.060349\n",
            "MAE: 0.003642\n"
          ]
        }
      ]
    },
    {
      "cell_type": "code",
      "source": [
        "# Matrices de confusión\n",
        "print(\"Matriz de confusión - Train\")\n",
        "train_conf_matrix = confusion_matrix(y_target_train, y_train_estimated)\n",
        "print(train_conf_matrix)"
      ],
      "metadata": {
        "colab": {
          "base_uri": "https://localhost:8080/"
        },
        "id": "1aRzc_zrTpwz",
        "outputId": "a73fbb51-76a9-4354-964a-1f5e3cebb161"
      },
      "execution_count": null,
      "outputs": [
        {
          "output_type": "stream",
          "name": "stdout",
          "text": [
            "Matriz de confusión - Train\n",
            "[[33645     0]\n",
            " [    3  4790]]\n"
          ]
        }
      ]
    },
    {
      "cell_type": "code",
      "source": [
        "print(\"Matriz de confusión - Test\")\n",
        "test_conf_matrix = confusion_matrix(y_target_test, y_test_estimated)\n",
        "print(test_conf_matrix)"
      ],
      "metadata": {
        "colab": {
          "base_uri": "https://localhost:8080/"
        },
        "id": "lPLnbBVvXpHs",
        "outputId": "de3a9e49-f923-4ab6-effa-9b2b7b561974"
      },
      "execution_count": null,
      "outputs": [
        {
          "output_type": "stream",
          "name": "stdout",
          "text": [
            "Matriz de confusión - Test\n",
            "[[8390    7]\n",
            " [  28 1185]]\n"
          ]
        }
      ]
    },
    {
      "cell_type": "code",
      "source": [
        "# Visualización de la matriz de confusión\n",
        "ConfusionMatrixDisplay(train_conf_matrix).plot()\n",
        "plt.title(\"Matriz de Confusión - Train\")\n",
        "plt.show()"
      ],
      "metadata": {
        "colab": {
          "base_uri": "https://localhost:8080/",
          "height": 493
        },
        "id": "hcuGV5ycTm3P",
        "outputId": "5bf883e6-042d-4070-8a2f-8e569778501e"
      },
      "execution_count": null,
      "outputs": [
        {
          "output_type": "display_data",
          "data": {
            "text/plain": [
              "<Figure size 640x480 with 2 Axes>"
            ],
            "image/png": "[encoded data removed]"
          },
          "metadata": {}
        }
      ]
    },
    {
      "cell_type": "code",
      "source": [
        "ConfusionMatrixDisplay(test_conf_matrix).plot()\n",
        "plt.title(\"Matriz de Confusión - Test\")\n",
        "plt.show()"
      ],
      "metadata": {
        "colab": {
          "base_uri": "https://localhost:8080/",
          "height": 493
        },
        "id": "R9SwWLRGXzYW",
        "outputId": "e74f381c-931c-4a0b-91be-fb44db200fd8"
      },
      "execution_count": null,
      "outputs": [
        {
          "output_type": "display_data",
          "data": {
            "text/plain": [
              "<Figure size 640x480 with 2 Axes>"
            ],
            "image/png": "[encoded data removed]"
          },
          "metadata": {}
        }
      ]
    },
    {
      "cell_type": "code",
      "source": [
        "# Curvas de Precision-Recall\n",
        "\n",
        "# Para los datos de entrenamiento\n",
        "y_train_scores = model.predict_proba(XtrainScaled)[:, 1]  # Puntajes para la clase positiva\n",
        "precision_train, recall_train, _ = precision_recall_curve(y_target_train, y_train_scores)\n",
        "pr_auc_train = auc(recall_train, precision_train)\n",
        "\n",
        "plt.plot(recall_train, precision_train, label=f'AUC = {pr_auc_train:.2f}')\n",
        "plt.xlabel('Recall')\n",
        "plt.ylabel('Precision')\n",
        "plt.title('Curva Precision-Recall - Train')\n",
        "plt.legend()\n",
        "plt.show()"
      ],
      "metadata": {
        "colab": {
          "base_uri": "https://localhost:8080/",
          "height": 493
        },
        "id": "AjiWctKWTiXI",
        "outputId": "54b8f272-8e1b-4471-ca30-c7b52d7a0e6f"
      },
      "execution_count": null,
      "outputs": [
        {
          "output_type": "display_data",
          "data": {
            "text/plain": [
              "<Figure size 640x480 with 1 Axes>"
            ],
            "image/png": "[encoded data removed]"
          },
          "metadata": {}
        }
      ]
    },
    {
      "cell_type": "code",
      "source": [
        "# Para los datos de test\n",
        "y_test_scores = model.predict_proba(XtestScaled)[:, 1]  # Puntajes para la clase positiva\n",
        "precision_test, recall_test, _ = precision_recall_curve(y_target_test, y_test_scores)\n",
        "pr_auc_test = auc(recall_test, precision_test)\n",
        "\n",
        "plt.plot(recall_test, precision_test, label=f'AUC = {pr_auc_test:.2f}')\n",
        "plt.xlabel('Recall')\n",
        "plt.ylabel('Precision')\n",
        "plt.title('Curva Precision-Recall - Test')\n",
        "plt.legend()\n",
        "plt.show()"
      ],
      "metadata": {
        "colab": {
          "base_uri": "https://localhost:8080/",
          "height": 493
        },
        "id": "5c452JDNTgkW",
        "outputId": "974fb09e-c5ca-43b1-bb65-cdb5afc33a9c"
      },
      "execution_count": null,
      "outputs": [
        {
          "output_type": "display_data",
          "data": {
            "text/plain": [
              "<Figure size 640x480 with 1 Axes>"
            ],
            "image/png": "[encoded data removed]"
          },
          "metadata": {}
        }
      ]
    },
    {
      "cell_type": "code",
      "source": [
        "# Obtener credenciales del entorno\n",
        "creds, _ = google.auth.default()"
      ],
      "metadata": {
        "id": "uNKDI4TcgiaF"
      },
      "execution_count": null,
      "outputs": []
    },
    {
      "cell_type": "code",
      "source": [
        "# Crear el servicio de Google Drive\n",
        "drive_service = build('drive', 'v3', credentials=creds)\n",
        "\n",
        "# Guardar el modelo localmente primero\n",
        "model_filename = 'model_random_forest.pkl'\n",
        "joblib.dump(model, model_filename)\n",
        "\n",
        "# Especificar el ID de la carpeta\n",
        "folder_id = '1wQv6lTixINg17x9E2JNhWoDO1fi7l4Xx'\n",
        "\n",
        "# Especificar la ruta del archivo local\n",
        "file_path = model_filename\n",
        "\n",
        "# Crear un objeto de MediaFileUpload\n",
        "media = MediaFileUpload(file_path, resumable=True)\n",
        "\n",
        "# Crear un archivo en Google Drive\n",
        "file_metadata = {\n",
        "    'name': os.path.basename(file_path),  # Nombre del archivo en Google Drive\n",
        "    'parents': [folder_id]  # ID de la carpeta donde se guardará el archivo\n",
        "}\n",
        "\n",
        "# Subir el archivo\n",
        "uploaded_file = drive_service.files().create(\n",
        "    body=file_metadata,\n",
        "    media_body=media,\n",
        "    fields='id'\n",
        ").execute()\n",
        "\n",
        "print(f\"File ID: {uploaded_file.get('id')}\")\n",
        "print(f\"Model saved to shared Google Drive folder: https://drive.google.com/drive/folders/{folder_id}\")\n"
      ],
      "metadata": {
        "colab": {
          "base_uri": "https://localhost:8080/"
        },
        "id": "S8el8MMlhgf6",
        "outputId": "55a686ca-f5b2-4e5c-c41f-97f9dfe43c5a"
      },
      "execution_count": null,
      "outputs": [
        {
          "output_type": "stream",
          "name": "stdout",
          "text": [
            "File ID: 1vyn8Z2N0kTwHefoYUrASdorXpK0YgJxW\n",
            "Model saved to shared Google Drive folder: https://drive.google.com/drive/folders/1wQv6lTixINg17x9E2JNhWoDO1fi7l4Xx\n"
          ]
        }
      ]
    },
    {
      "cell_type": "code",
      "source": [
        "# Crear el servicio de Google Drive\n",
        "drive_service = build('drive', 'v3', credentials=creds)\n",
        "\n",
        "# Guardar el diccionario localmente primero\n",
        "dict_filename = 'dict_model_results.pkl'\n",
        "dict_results = {'names':names, 'results':results, 'models':fitted_models, 'X_test': XtestScaled, 'y_test': y_target_test}\n",
        "joblib.dump(dict_results, dict_filename)\n",
        "\n",
        "# Especificar el ID de la carpeta\n",
        "folder_id = '1wQv6lTixINg17x9E2JNhWoDO1fi7l4Xx'\n",
        "\n",
        "# Especificar la ruta del archivo local\n",
        "file_path = dict_filename\n",
        "\n",
        "# Crear un objeto de MediaFileUpload\n",
        "media = MediaFileUpload(file_path, resumable=True)\n",
        "\n",
        "# Crear un archivo en Google Drive\n",
        "file_metadata = {\n",
        "    'name': os.path.basename(file_path),  # Nombre del archivo en Google Drive\n",
        "    'parents': [folder_id]  # ID de la carpeta donde se guardará el archivo\n",
        "}\n",
        "\n",
        "# Subir el archivo\n",
        "uploaded_file = drive_service.files().create(\n",
        "    body=file_metadata,\n",
        "    media_body=media,\n",
        "    fields='id'\n",
        ").execute()\n",
        "\n",
        "print(f\"File ID: {uploaded_file.get('id')}\")\n",
        "print(f\"Dictionary saved to shared Google Drive folder: https://drive.google.com/drive/folders/{folder_id}\")\n"
      ],
      "metadata": {
        "colab": {
          "base_uri": "https://localhost:8080/"
        },
        "id": "buxN7kyjjc6s",
        "outputId": "4bdbf1fa-c032-4381-9cd2-8100e5ff8594"
      },
      "execution_count": null,
      "outputs": [
        {
          "output_type": "stream",
          "name": "stdout",
          "text": [
            "File ID: 1p9eF1Me4kzFi_xGrJ2dBrGsimcFb_1z3\n",
            "Dictionary saved to shared Google Drive folder: https://drive.google.com/drive/folders/1wQv6lTixINg17x9E2JNhWoDO1fi7l4Xx\n"
          ]
        }
      ]
    }
  ]
}